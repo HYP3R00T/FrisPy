{
 "cells": [
  {
   "cell_type": "markdown",
   "metadata": {},
   "source": [
    "# Visualizing trajectories\n",
    "\n",
    "When simulating flying discs, the most useful thing to see is a visualization of the disc's trajectory. This notebook shows how one can use the FrisPy package to obtain a trajectory, and then some examples of how one can then visualize the various parts."
   ]
  },
  {
   "cell_type": "code",
   "execution_count": 1,
   "metadata": {},
   "outputs": [],
   "source": [
    "import numpy as np\n",
    "import matplotlib.pyplot as plt\n",
    "%matplotlib inline"
   ]
  },
  {
   "cell_type": "code",
   "execution_count": 2,
   "metadata": {},
   "outputs": [],
   "source": [
    "import FrisPy"
   ]
  },
  {
   "cell_type": "code",
   "execution_count": 3,
   "metadata": {},
   "outputs": [],
   "source": [
    "#Plot formatting\n",
    "plt.rc(\"font\", family = \"serif\", size = 18)\n",
    "#plt.rc(\"text\", usetex = True)"
   ]
  },
  {
   "cell_type": "code",
   "execution_count": 4,
   "metadata": {},
   "outputs": [
    {
     "ename": "AttributeError",
     "evalue": "module 'FrisPy' has no attribute 'create_disc'",
     "output_type": "error",
     "traceback": [
      "\u001b[0;31m---------------------------------------------------------------------------\u001b[0m",
      "\u001b[0;31mAttributeError\u001b[0m                            Traceback (most recent call last)",
      "\u001b[0;32m<ipython-input-4-1e6d421491b8>\u001b[0m in \u001b[0;36m<module>\u001b[0;34m\u001b[0m\n\u001b[0;32m----> 1\u001b[0;31m \u001b[0md\u001b[0m \u001b[0;34m=\u001b[0m \u001b[0mFrisPy\u001b[0m\u001b[0;34m.\u001b[0m\u001b[0mcreate_disc\u001b[0m\u001b[0;34m(\u001b[0m\u001b[0mfilename\u001b[0m\u001b[0;34m=\u001b[0m\u001b[0;34m\"../simple_initial_conditions.txt\"\u001b[0m\u001b[0;34m)\u001b[0m\u001b[0;34m\u001b[0m\u001b[0;34m\u001b[0m\u001b[0m\n\u001b[0m\u001b[1;32m      2\u001b[0m \u001b[0mtimes\u001b[0m\u001b[0;34m,\u001b[0m \u001b[0mtrajectory\u001b[0m \u001b[0;34m=\u001b[0m \u001b[0mFrisPy\u001b[0m\u001b[0;34m.\u001b[0m\u001b[0mget_trajectory\u001b[0m\u001b[0;34m(\u001b[0m\u001b[0md\u001b[0m\u001b[0;34m)\u001b[0m\u001b[0;34m\u001b[0m\u001b[0;34m\u001b[0m\u001b[0m\n",
      "\u001b[0;31mAttributeError\u001b[0m: module 'FrisPy' has no attribute 'create_disc'"
     ]
    }
   ],
   "source": [
    "d = FrisPy.create_disc(filename=\"../simple_initial_conditions.txt\")\n",
    "times, trajectory = FrisPy.get_trajectory(d)"
   ]
  },
  {
   "cell_type": "markdown",
   "metadata": {},
   "source": [
    "## Functions of time"
   ]
  },
  {
   "cell_type": "code",
   "execution_count": null,
   "metadata": {},
   "outputs": [],
   "source": [
    "x = trajectory[:,0]\n",
    "plt.plot(times, x)\n",
    "plt.xlabel(\"Time [s]\")\n",
    "plt.ylabel(\"x Position [m]\")"
   ]
  },
  {
   "cell_type": "code",
   "execution_count": null,
   "metadata": {},
   "outputs": [],
   "source": [
    "fig, axes = plt.subplots(ncols=1, nrows=3, sharex=True)\n",
    "names = ['x','y','z']\n",
    "for i, n in enumerate(names):\n",
    "    p = trajectory[:,i]\n",
    "    axes[i].plot(times, p)\n",
    "    axes[i].set_ylabel(\"%s [m]\"%n)\n",
    "axes[2].set_xlabel(\"Time [s]\")\n",
    "plt.subplots_adjust(hspace=0.03)"
   ]
  },
  {
   "cell_type": "markdown",
   "metadata": {},
   "source": [
    "## Kinematic variables\n",
    "\n",
    "Sometimes it is more useful to plot kinematic variables against each other. For instance, this way one can see how the disc moves in a plane."
   ]
  },
  {
   "cell_type": "code",
   "execution_count": null,
   "metadata": {},
   "outputs": [],
   "source": [
    "x, y, z = trajectory.T\n",
    "plt.plot(x, y)\n",
    "plt.xlabel(\"x [m]\")\n",
    "plt.ylabel(\"y [m]\")"
   ]
  },
  {
   "cell_type": "code",
   "execution_count": null,
   "metadata": {},
   "outputs": [],
   "source": [
    "plt.plot(x, y)\n",
    "plt.xlabel(\"x [m]\")\n",
    "plt.ylabel(\"y [m]\")\n",
    "plt.xlim(0, 15)\n",
    "plt.ylim(-7.5, 7.5)"
   ]
  },
  {
   "cell_type": "code",
   "execution_count": null,
   "metadata": {},
   "outputs": [],
   "source": [
    "plt.plot(x, z)\n",
    "plt.xlabel(\"x [m]\")\n",
    "plt.ylabel(\"z [m]\")\n",
    "plt.xlim(0, 15)\n",
    "plt.ylim(0, 2)"
   ]
  },
  {
   "cell_type": "markdown",
   "metadata": {},
   "source": [
    "## 3D Plot\n",
    "\n",
    "It can also be useful to see the whole trajectory in 3D."
   ]
  },
  {
   "cell_type": "code",
   "execution_count": null,
   "metadata": {},
   "outputs": [],
   "source": []
  }
 ],
 "metadata": {
  "kernelspec": {
   "display_name": "Python 3",
   "language": "python",
   "name": "python3"
  },
  "language_info": {
   "codemirror_mode": {
    "name": "ipython",
    "version": 3
   },
   "file_extension": ".py",
   "mimetype": "text/x-python",
   "name": "python",
   "nbconvert_exporter": "python",
   "pygments_lexer": "ipython3",
   "version": "3.7.6"
  }
 },
 "nbformat": 4,
 "nbformat_minor": 2
}
